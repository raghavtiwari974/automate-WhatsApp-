{
 "cells": [
  {
   "cell_type": "code",
   "execution_count": null,
   "id": "f533637c-cd66-49a1-b3ec-ee5b4f78d08b",
   "metadata": {},
   "outputs": [],
   "source": [
    "from twilio.rest import Client\n",
    "\n",
    "# Twilio credentials from your console\n",
    "account_sid = 'YOUR_ACCOUNT_SID'\n",
    "auth_token = 'YOUR_AUTH_TOKEN'\n",
    "client = Client(account_sid, auth_token)\n",
    "\n",
    "# Your message\n",
    "message = client.messages.create(\n",
    "    from_='whatsapp:+14155238886',         # Twilio Sandbox number\n",
    "    to='whatsapp:+91YOUR_PHONE_NUMBER',     # Your phone number with country code\n",
    "    body='🚀 Hello from Python! This is a WhatsApp message sent via Twilio API.'\n",
    ")\n",
    "\n",
    "print(\"✅ Message sent! SID:\", message.sid)\n"
   ]
  }
 ],
 "metadata": {
  "kernelspec": {
   "display_name": "Python 3 (ipykernel)",
   "language": "python",
   "name": "python3"
  },
  "language_info": {
   "codemirror_mode": {
    "name": "ipython",
    "version": 3
   },
   "file_extension": ".py",
   "mimetype": "text/x-python",
   "name": "python",
   "nbconvert_exporter": "python",
   "pygments_lexer": "ipython3",
   "version": "3.12.7"
  }
 },
 "nbformat": 4,
 "nbformat_minor": 5
}
